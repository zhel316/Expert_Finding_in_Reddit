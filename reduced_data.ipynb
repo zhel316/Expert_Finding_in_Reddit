{
 "cells": [
  {
   "cell_type": "code",
   "execution_count": 0,
   "metadata": {
    "application/vnd.databricks.v1+cell": {
     "inputWidgets": {},
     "nuid": "d1f358e7-d73f-4a20-880c-d5d6076393ec",
     "showTitle": false,
     "title": ""
    }
   },
   "outputs": [
    {
     "data": {
      "text/html": [
       "<style scoped>\n",
       "  .ansiout {\n",
       "    display: block;\n",
       "    unicode-bidi: embed;\n",
       "    white-space: pre-wrap;\n",
       "    word-wrap: break-word;\n",
       "    word-break: break-all;\n",
       "    font-family: \"Source Code Pro\", \"Menlo\", monospace;;\n",
       "    font-size: 13px;\n",
       "    color: #555;\n",
       "    margin-left: 4px;\n",
       "    line-height: 19px;\n",
       "  }\n",
       "</style>\n",
       "<div class=\"ansiout\"></div>"
      ]
     },
     "metadata": {
      "application/vnd.databricks.v1+output": {
       "addedWidgets": {},
       "arguments": {},
       "data": "<div class=\"ansiout\"></div>",
       "datasetInfos": [],
       "metadata": {},
       "removedWidgets": [],
       "type": "html"
      }
     },
     "output_type": "display_data"
    }
   ],
   "source": [
    "from pyspark.sql.session import SparkSession\n",
    "from pyspark.sql.functions import *\n",
    "import sys\n",
    "import os"
   ]
  },
  {
   "cell_type": "code",
   "execution_count": 0,
   "metadata": {
    "application/vnd.databricks.v1+cell": {
     "inputWidgets": {},
     "nuid": "9c376078-84f4-405a-8229-20a970e6606f",
     "showTitle": false,
     "title": ""
    }
   },
   "outputs": [
    {
     "data": {
      "text/html": [
       "<style scoped>\n",
       "  .ansiout {\n",
       "    display: block;\n",
       "    unicode-bidi: embed;\n",
       "    white-space: pre-wrap;\n",
       "    word-wrap: break-word;\n",
       "    word-break: break-all;\n",
       "    font-family: \"Source Code Pro\", \"Menlo\", monospace;;\n",
       "    font-size: 13px;\n",
       "    color: #555;\n",
       "    margin-left: 4px;\n",
       "    line-height: 19px;\n",
       "  }\n",
       "</style>\n",
       "<div class=\"ansiout\"></div>"
      ]
     },
     "metadata": {
      "application/vnd.databricks.v1+output": {
       "addedWidgets": {},
       "arguments": {},
       "data": "<div class=\"ansiout\"></div>",
       "datasetInfos": [],
       "metadata": {},
       "removedWidgets": [],
       "type": "html"
      }
     },
     "output_type": "display_data"
    }
   ],
   "source": [
    "spark = SparkSession.builder.getOrCreate()"
   ]
  },
  {
   "cell_type": "code",
   "execution_count": 0,
   "metadata": {
    "application/vnd.databricks.v1+cell": {
     "inputWidgets": {},
     "nuid": "fb29009b-85e7-4ee2-a5ab-0375a7e9c30c",
     "showTitle": false,
     "title": ""
    }
   },
   "outputs": [
    {
     "data": {
      "text/html": [
       "<style scoped>\n",
       "  .ansiout {\n",
       "    display: block;\n",
       "    unicode-bidi: embed;\n",
       "    white-space: pre-wrap;\n",
       "    word-wrap: break-word;\n",
       "    word-break: break-all;\n",
       "    font-family: \"Source Code Pro\", \"Menlo\", monospace;;\n",
       "    font-size: 13px;\n",
       "    color: #555;\n",
       "    margin-left: 4px;\n",
       "    line-height: 19px;\n",
       "  }\n",
       "</style>\n",
       "<div class=\"ansiout\"></div>"
      ]
     },
     "metadata": {
      "application/vnd.databricks.v1+output": {
       "addedWidgets": {},
       "arguments": {},
       "data": "<div class=\"ansiout\"></div>",
       "datasetInfos": [],
       "metadata": {},
       "removedWidgets": [],
       "type": "html"
      }
     },
     "output_type": "display_data"
    }
   ],
   "source": [
    "#turn json to parquet, from 2019.8~2022.8\n",
    "schema_sub = \"subreddit string, subreddit_id string, num_comments long, score long, title string\"\n",
    "def reduced_submissions(year_s, year_e):\n",
    "    for year in range(year_s, year_e+1):\n",
    "        for month in range(1,13):\n",
    "            if month < 10:\n",
    "                file_path = '/mnt/lsde/datasets/reddit/submissions/RS_' + str(year)+ '-0' + str(month)+ '.json.bz2'\n",
    "                write_path = 'dbfs:/mnt/lsde/group24/submissions/' + 'RS_' + str(year)+ '-0' + str(month)\n",
    "            else:\n",
    "                file_path = '/mnt/lsde/datasets/reddit/submissions/RS_' + str(year)+ '-' + str(month)+ '.json.bz2'\n",
    "                write_path = 'dbfs:/mnt/lsde/group24/submissions/' + 'RS_' + str(year)+ '-' + str(month)\n",
    "            if not os.path.exists('/dbfs' + file_path):\n",
    "                continue\n",
    "            else:\n",
    "                submissions = spark.read.json('dbfs:' + file_path, schema_sub)\n",
    "                submissions.write.format('parquet').mode('overwrite').save(write_path)\n",
    "                print(write_path + ': has been written')"
   ]
  },
  {
   "cell_type": "code",
   "execution_count": 0,
   "metadata": {
    "application/vnd.databricks.v1+cell": {
     "inputWidgets": {},
     "nuid": "9d47775d-7047-441a-8ae6-44fb70f0b3f3",
     "showTitle": false,
     "title": ""
    }
   },
   "outputs": [
    {
     "data": {
      "text/html": [
       "<style scoped>\n",
       "  .ansiout {\n",
       "    display: block;\n",
       "    unicode-bidi: embed;\n",
       "    white-space: pre-wrap;\n",
       "    word-wrap: break-word;\n",
       "    word-break: break-all;\n",
       "    font-family: \"Source Code Pro\", \"Menlo\", monospace;;\n",
       "    font-size: 13px;\n",
       "    color: #555;\n",
       "    margin-left: 4px;\n",
       "    line-height: 19px;\n",
       "  }\n",
       "</style>\n",
       "<div class=\"ansiout\">dbfs:/mnt/lsde/group24/submissions/RS_2019-08: has been written\n",
       "dbfs:/mnt/lsde/group24/submissions/RS_2019-09: has been written\n",
       "dbfs:/mnt/lsde/group24/submissions/RS_2019-10: has been written\n",
       "dbfs:/mnt/lsde/group24/submissions/RS_2019-11: has been written\n",
       "dbfs:/mnt/lsde/group24/submissions/RS_2019-12: has been written\n",
       "</div>"
      ]
     },
     "metadata": {
      "application/vnd.databricks.v1+output": {
       "addedWidgets": {},
       "arguments": {},
       "data": "<div class=\"ansiout\">dbfs:/mnt/lsde/group24/submissions/RS_2019-08: has been written\ndbfs:/mnt/lsde/group24/submissions/RS_2019-09: has been written\ndbfs:/mnt/lsde/group24/submissions/RS_2019-10: has been written\ndbfs:/mnt/lsde/group24/submissions/RS_2019-11: has been written\ndbfs:/mnt/lsde/group24/submissions/RS_2019-12: has been written\n</div>",
       "datasetInfos": [],
       "metadata": {},
       "removedWidgets": [],
       "type": "html"
      }
     },
     "output_type": "display_data"
    }
   ],
   "source": [
    "reduced_submissions(2019,2019)"
   ]
  },
  {
   "cell_type": "code",
   "execution_count": 0,
   "metadata": {
    "application/vnd.databricks.v1+cell": {
     "inputWidgets": {},
     "nuid": "679d9976-affd-459c-97b6-f02657113a9d",
     "showTitle": false,
     "title": ""
    }
   },
   "outputs": [],
   "source": [
    "#turn json to parquet, from 2019.8~2022.8\n",
    "#2020-4.2020-5,2020-8 unreadable\n",
    "schema_com = \"subreddit string, subreddit_id string, author string, score long, body string\"\n",
    "def reduced_comments(year_s, year_e):\n",
    "    for year in range(year_s, year_e+1):\n",
    "        for month in range(10,11):\n",
    "            if month < 10:\n",
    "                file_path = '/mnt/lsde/datasets/reddit/comments/RC_' + str(year)+ '-0' + str(month)+ '.json.bz2'\n",
    "                write_path = 'dbfs:/mnt/lsde/group24/comments/' + 'RC_' + str(year)+ '-0' + str(month)\n",
    "            else:\n",
    "                file_path = '/mnt/lsde/datasets/reddit/comments/RC_' + str(year)+ '-' + str(month)+ '.json.bz2'\n",
    "                write_path = 'dbfs:/mnt/lsde/group24/comments/' + 'RC_' + str(year)+ '-' + str(month)\n",
    "            if not os.path.exists('/dbfs' + file_path):\n",
    "                continue\n",
    "            else:\n",
    "                comments = spark.read.json('dbfs:' + file_path, schema_com) \\\n",
    "                                .filter((col('body')!='[deleted]') & (col('author') != '[deleted]') )\n",
    "                comments.write.format('parquet').mode('overwrite').save(write_path)\n",
    "                print(write_path + ': has been written')"
   ]
  },
  {
   "cell_type": "code",
   "execution_count": 0,
   "metadata": {
    "application/vnd.databricks.v1+cell": {
     "inputWidgets": {},
     "nuid": "350cdae3-8f4f-473a-94c4-461ab2278836",
     "showTitle": false,
     "title": ""
    }
   },
   "outputs": [
    {
     "data": {
      "text/plain": [
       "dbfs:/mnt/lsde/group24/comments/RC_2021-10: has been written\n"
      ]
     },
     "metadata": {
      "application/vnd.databricks.v1+output": {
       "addedWidgets": {},
       "arguments": {},
       "data": "dbfs:/mnt/lsde/group24/comments/RC_2021-10: has been written\n",
       "datasetInfos": [],
       "metadata": {},
       "removedWidgets": [],
       "type": "ansi"
      }
     },
     "output_type": "display_data"
    }
   ],
   "source": [
    "reduced_comments(2021,2021)"
   ]
  }
 ],
 "metadata": {
  "application/vnd.databricks.v1+notebook": {
   "dashboards": [],
   "language": "python",
   "notebookMetadata": {
    "pythonIndentUnit": 4
   },
   "notebookName": "reduced_data",
   "notebookOrigID": 2588271119868147,
   "widgets": {}
  },
  "kernelspec": {
   "display_name": "Python 3 (ipykernel)",
   "language": "python",
   "name": "python3"
  },
  "language_info": {
   "codemirror_mode": {
    "name": "ipython",
    "version": 3
   },
   "file_extension": ".py",
   "mimetype": "text/x-python",
   "name": "python",
   "nbconvert_exporter": "python",
   "pygments_lexer": "ipython3",
   "version": "3.9.7"
  }
 },
 "nbformat": 4,
 "nbformat_minor": 1
}
