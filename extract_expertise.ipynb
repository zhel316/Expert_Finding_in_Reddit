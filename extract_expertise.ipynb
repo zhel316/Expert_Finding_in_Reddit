{
 "cells": [
  {
   "cell_type": "code",
   "execution_count": 0,
   "metadata": {
    "application/vnd.databricks.v1+cell": {
     "inputWidgets": {},
     "nuid": "d93871ba-c050-4361-ad47-b2b2a10e9ad0",
     "showTitle": false,
     "title": ""
    }
   },
   "outputs": [],
   "source": [
    "from pyspark.sql.session import SparkSession\n",
    "from pyspark.sql.functions import *\n",
    "from pyspark.sql.types import *\n",
    "from pyspark.sql import Window\n",
    "import sys\n",
    "import os"
   ]
  },
  {
   "cell_type": "code",
   "execution_count": 0,
   "metadata": {
    "application/vnd.databricks.v1+cell": {
     "inputWidgets": {},
     "nuid": "53fb18dd-ba4e-4704-81d2-c4e496f8085f",
     "showTitle": false,
     "title": ""
    }
   },
   "outputs": [],
   "source": [
    "spark = SparkSession.builder.getOrCreate()"
   ]
  },
  {
   "cell_type": "code",
   "execution_count": 0,
   "metadata": {
    "application/vnd.databricks.v1+cell": {
     "inputWidgets": {},
     "nuid": "2f0afc3a-aef5-4a72-bafe-777d28f07aa8",
     "showTitle": false,
     "title": ""
    }
   },
   "outputs": [
    {
     "data": {
      "text/plain": [
       "1000\n"
      ]
     },
     "metadata": {
      "application/vnd.databricks.v1+output": {
       "addedWidgets": {},
       "arguments": {},
       "data": "1000\n",
       "datasetInfos": [],
       "metadata": {},
       "removedWidgets": [],
       "type": "ansi"
      }
     },
     "output_type": "display_data"
    }
   ],
   "source": [
    "rank = spark.read.parquet('dbfs:/mnt/lsde/group24/subreddit_rank_2')\n",
    "sub_id_list = rank.select(col('subreddit_id')).orderBy(asc('subreddit_id')).rdd.map(lambda r: r.subreddit_id).collect()\n",
    "print(len(sub_id_list))"
   ]
  },
  {
   "cell_type": "code",
   "execution_count": 0,
   "metadata": {
    "application/vnd.databricks.v1+cell": {
     "inputWidgets": {},
     "nuid": "08252c3c-453f-4b5c-910d-50cba0836b05",
     "showTitle": false,
     "title": ""
    }
   },
   "outputs": [],
   "source": [
    "all_com_files_list = os.listdir('/dbfs/mnt/lsde/group24/comments')\n",
    "file_path = 'dbfs:/mnt/lsde/group24/comments/'"
   ]
  },
  {
   "cell_type": "code",
   "execution_count": 0,
   "metadata": {
    "application/vnd.databricks.v1+cell": {
     "inputWidgets": {},
     "nuid": "3faa0b7f-e09c-4ebf-8964-3309a6367928",
     "showTitle": false,
     "title": ""
    }
   },
   "outputs": [
    {
     "data": {
      "text/plain": [
       "union finished\n",
       "group finished\n",
       "partition fininshed\n",
       "Done\n"
      ]
     },
     "metadata": {
      "application/vnd.databricks.v1+output": {
       "addedWidgets": {},
       "arguments": {},
       "data": "union finished\ngroup finished\npartition fininshed\nDone\n",
       "datasetInfos": [],
       "metadata": {},
       "removedWidgets": [],
       "type": "ansi"
      }
     },
     "output_type": "display_data"
    }
   ],
   "source": [
    "#only select the comments for each user which score is in top 500\n",
    "def select_top_expert():\n",
    "    schema_comments = 'subreddit string, subreddit_id string, author string, score long, body string'\n",
    "    result = spark.createDataFrame(spark.sparkContext.emptyRDD(), schema_comments)\n",
    "    for com_file in all_com_files_list:\n",
    "        com = spark.read.parquet(file_path + com_file) \\\n",
    "                        .filter(col('subreddit_id').isin(sub_id_list))\n",
    "        #mean = com.select(col('score')).agg(avg('score')).collect()[0][0]\n",
    "        #com = com.filter(col('score') > mean)\n",
    "        result = result.union(com)\n",
    "    print('union finished')\n",
    "    window1 = Window.partitionBy('subreddit_id','author').orderBy(desc('score'))\n",
    "    result = result.withColumn('rank_per_comment', row_number().over(window1))\n",
    "    result = result.filter(col('rank_per_comment')<=500)\n",
    "    result = result.groupBy('subreddit', 'subreddit_id', 'author') \\\n",
    "                    .agg(sum('score').alias('expert_score'), collect_list('body').alias('expert_body'))\n",
    "    print('group finished')\n",
    "    window2 = Window.partitionBy('subreddit_id').orderBy(desc('expert_score'))\n",
    "    result = result.withColumn('expert_score_rank', row_number().over(window2))\n",
    "    print('partition fininshed')\n",
    "    result = result.filter(col('expert_score_rank')<=20)\n",
    "    print('Done')\n",
    "    return result\n",
    "top_expert = select_top_expert()"
   ]
  },
  {
   "cell_type": "code",
   "execution_count": 0,
   "metadata": {
    "application/vnd.databricks.v1+cell": {
     "inputWidgets": {},
     "nuid": "432b02ed-a97b-4b1a-ae28-ae9998f545d5",
     "showTitle": false,
     "title": ""
    }
   },
   "outputs": [],
   "source": [
    "write_path = 'dbfs:/mnt/lsde/group24/'\n",
    "top_expert.write.format(\"parquet\").mode(\"overwrite\").save(write_path + \"/top_expert\")"
   ]
  },
  {
   "cell_type": "code",
   "execution_count": 0,
   "metadata": {
    "application/vnd.databricks.v1+cell": {
     "inputWidgets": {},
     "nuid": "9a3ebda5-b3bf-4021-add6-eeee0bfaef7d",
     "showTitle": false,
     "title": ""
    }
   },
   "outputs": [],
   "source": [
    "from gensim.summarization import summarize\n",
    "import emoji\n",
    "import re\n",
    "import RAKE\n",
    "import operator\n",
    "import jieba.analyse\n",
    "import collections"
   ]
  },
  {
   "cell_type": "code",
   "execution_count": 0,
   "metadata": {
    "application/vnd.databricks.v1+cell": {
     "inputWidgets": {},
     "nuid": "2d17b9ec-8e46-44f7-81dc-eddd05b6284a",
     "showTitle": false,
     "title": ""
    }
   },
   "outputs": [],
   "source": [
    "###\n",
    "top_experts = spark.read.parquet('dbfs:/mnt/lsde/group24/top_expert') \\\n",
    "                        .orderBy('subreddit_id') \\\n",
    "                        #.filter(col('subreddit') == 'China_irl') \\\n",
    "# top_experts = top_expert.orderBy('subreddit_id')"
   ]
  },
  {
   "cell_type": "code",
   "execution_count": 0,
   "metadata": {
    "application/vnd.databricks.v1+cell": {
     "inputWidgets": {},
     "nuid": "40f39224-eb2d-4632-bcab-8f639bc7ec3a",
     "showTitle": false,
     "title": ""
    }
   },
   "outputs": [],
   "source": [
    "top_experts_list= top_experts.rdd.collect()"
   ]
  },
  {
   "cell_type": "code",
   "execution_count": 0,
   "metadata": {
    "application/vnd.databricks.v1+cell": {
     "inputWidgets": {},
     "nuid": "c114d14f-e36b-461b-8004-aff0558d6775",
     "showTitle": false,
     "title": ""
    }
   },
   "outputs": [],
   "source": [
    "def rm_emoji(sentence):\n",
    "    #rm_emoji = re.compile(u'[\\U00010000-\\U0010ffff]')\n",
    "    #rm_emoji.sub('', sentence)\n",
    "    sentence = emoji.demojize(sentence)\n",
    "    sentence = re.sub(':\\S+?:', ' ', sentence)\n",
    "    return sentence\n",
    "  \n",
    "def rm_url(sentence):\n",
    "    s = sentence.split(' ')\n",
    "    # remove http://...\n",
    "    url_pattern = re.compile(r'(https|http)?:\\/\\/(\\w|\\.|\\/|\\?|\\=|\\&|\\%|\\-)*\\b', re.S)\n",
    "    # romove without http:// ....\n",
    "    domain_pattern = re.compile(r'(\\b)*(.*?)\\.(com|cn)')\n",
    "    if len(s) > 0:\n",
    "        result = []\n",
    "        for item in s:\n",
    "            s = re.sub(url_pattern, '', item)\n",
    "            s = re.sub(domain_pattern,'', s)\n",
    "            result.append(s)\n",
    "        return ' '.join(result)\n",
    "    else:\n",
    "        return re.sub(url_pattern, '', s)\n",
    "    \n",
    "def rm_html_tag(sentence):\n",
    "    html_pattern = re.compile('(<a|<b)(.*?)(</a>|</b>)', re.S)\n",
    "    sentence=re.sub(html_pattern,'', sentence)\n",
    "    return sentence\n",
    "\n",
    "def rm_tag(sentence):\n",
    "    tag_pattern = re.compile('(\\[|\\#|【)(.*?)(\\#|\\]|\\】)', re.S)\n",
    "    sentence = re.sub(tag_pattern, '', sentence)\n",
    "    return sentence.strip()\n",
    "\n",
    "def rm_at(sentence):\n",
    "    at_pattern = re.compile('@\\S*', re.S)\n",
    "    sentence = re.sub(at_pattern, '', sentence)\n",
    "    return sentence.strip()\n",
    "\n",
    "def rm_other(sentence):\n",
    "    sentence.replace('\\n', '')\n",
    "    sentence.replace('\\r', '')\n",
    "    sentence.replace('#', '')\n",
    "    sentence.replace('*', '')\n",
    "    return sentence.strip()\n",
    "\n",
    "def clean_sentence(s):\n",
    "    s = rm_emoji(s)\n",
    "    s = rm_url(s)\n",
    "    s = rm_html_tag(s)\n",
    "    s = rm_tag(s)\n",
    "    s = rm_at(s)\n",
    "    s = rm_other(s)\n",
    "    s = re.sub(r'。|？|！', '. ', s)\n",
    "    #print(s[-1])\n",
    "    if len(s)>0 and s[-1] not in ['.', '?','!']:\n",
    "        s = s+ '.'\n",
    "    return s\n",
    "\n",
    "def clean_text(text):\n",
    "    new_text_str = ''\n",
    "    for sentence in text:\n",
    "        s = clean_sentence(sentence)\n",
    "        new_text_str = new_text_str + ' ' + s\n",
    "    return new_text_str"
   ]
  },
  {
   "cell_type": "code",
   "execution_count": 0,
   "metadata": {
    "application/vnd.databricks.v1+cell": {
     "inputWidgets": {},
     "nuid": "48b8c961-9020-4f55-a416-5161de576ea5",
     "showTitle": false,
     "title": ""
    }
   },
   "outputs": [],
   "source": [
    "def summarize_text(text):\n",
    "    res = re.split('[.!?]',text)\n",
    "    if len(res) <= 10:\n",
    "        return text\n",
    "    abstract = summarize(text)\n",
    "    return abstract"
   ]
  },
  {
   "cell_type": "code",
   "execution_count": 0,
   "metadata": {
    "application/vnd.databricks.v1+cell": {
     "inputWidgets": {},
     "nuid": "0eadcd9e-32a7-487d-94cc-4a7af477fd71",
     "showTitle": false,
     "title": ""
    }
   },
   "outputs": [],
   "source": [
    "stop_dir = '/dbfs/FileStore/Group24/SmartStoplist.txt'\n",
    "stop_dir_cn = '/dbfs/FileStore/Group24/cn_stopwords.txt'\n",
    "rake_object = RAKE.Rake(stop_dir)\n",
    "jieba.analyse.set_stop_words(stop_dir_cn)\n",
    "def sort_tuple(tup):\n",
    "    tup.sort(key = lambda x: x[1])\n",
    "    return tup\n",
    "def run_rake(text):\n",
    "    #print('raking')\n",
    "    keywords = sort_tuple(rake_object.run(text))[-10: ]\n",
    "    return keywords\n",
    "def run_rake_cn(text):\n",
    "    words = jieba.analyse.textrank(text, topK=20,withWeight=True)\n",
    "    key_words = sort_tuple(words)[-10:]\n",
    "    return key_words"
   ]
  },
  {
   "cell_type": "code",
   "execution_count": 0,
   "metadata": {
    "application/vnd.databricks.v1+cell": {
     "inputWidgets": {},
     "nuid": "096a821b-39ce-48f4-b92d-bd8485acdadb",
     "showTitle": false,
     "title": ""
    }
   },
   "outputs": [],
   "source": [
    "def get_expertise_cn(text):\n",
    "    new_text = clean_text(text)\n",
    "    abstract = summarize_text(new_text)\n",
    "    expertise = run_rake_cn(abstract)\n",
    "    if len(expertise) == 0:\n",
    "        expertise = [(text[0], 10.0)]\n",
    "        return expertise\n",
    "    return expertise"
   ]
  },
  {
   "cell_type": "code",
   "execution_count": 0,
   "metadata": {
    "application/vnd.databricks.v1+cell": {
     "inputWidgets": {},
     "nuid": "aeb192ce-679b-4de8-92c2-a00ab0245ab5",
     "showTitle": false,
     "title": ""
    }
   },
   "outputs": [],
   "source": [
    "def get_expertise(text):\n",
    "    if text[0] == '9/10':\n",
    "        text = clean_text(text)\n",
    "        return run_rake(text)\n",
    "    new_text = clean_text(text)\n",
    "    abstract = summarize_text(new_text)\n",
    "    expertise = run_rake(abstract)\n",
    "    #expertise = run_rake(new_text)\n",
    "    if len(expertise) == 0:\n",
    "        expertise = [(text[0], 10.0)]\n",
    "        return expertise\n",
    "    return expertise"
   ]
  },
  {
   "cell_type": "code",
   "execution_count": 0,
   "metadata": {
    "application/vnd.databricks.v1+cell": {
     "inputWidgets": {},
     "nuid": "4e6ae37a-1568-40ae-8d61-4373a7e03ee5",
     "showTitle": false,
     "title": ""
    }
   },
   "outputs": [
    {
     "data": {
      "text/plain": [
       "[('China_irl', 't5_x72uq', 'ErwinRRR', 21265, [('共匪', 0.2919269235279303), ('问题', 0.30085721651710706), ('觉得', 0.3348083232951814), ('东西', 0.33883345897310707), ('结果', 0.34826630776203793), ('时候', 0.38251735338798337), ('可能', 0.39758783402955705), ('国家', 0.4132706429507359), ('没有', 0.5096784844022569), ('中国', 1.0)], 1), ('China_irl', 't5_x72uq', 'Adventure_Alone', 21034, [('轰炸', 0.3297834212538825), ('文革', 0.35097347055301276), ('政治', 0.36308266858879634), ('中國', 0.37479726316605194), ('政策', 0.4239069780908441), ('没有', 0.4731043541154743), ('时候', 0.5342771533699927), ('知道', 0.5444098056480373), ('民主', 0.5775653690618686), ('中国', 1.0)], 2), ('China_irl', 't5_x72uq', 'KailBroflovsky', 20772, [('思想', 0.553656316856696), ('还有', 0.5562829093682939), ('知道', 0.5569364348172173), ('觉得', 0.559430321379635), ('舆论', 0.5926594429397128), ('文革', 0.635289093164218), ('中国', 0.7655327314333069), ('平子', 0.7948924472567184), ('资本家', 0.8198218706030398), ('没有', 1.0)], 3), ('China_irl', 't5_x72uq', 'FormulaChinese', 19212, [('问题', 0.162073428731364), ('普京', 0.16503904387895418), ('记者', 0.16557972754595077), ('看看', 0.17792712458913224), ('美国', 0.285671868372138), ('民主', 0.288458716748338), ('国家', 0.2935395439893917), ('支持', 0.3562260557013981), ('俄罗斯', 0.36645989465511825), ('中国', 1.0)], 4), ('China_irl', 't5_x72uq', 'MundaneAssociation71', 18788, [('进到', 0.2839373380478285), ('巡游', 0.28397143510287043), ('遇到', 0.2878383505084197), ('世袭制', 0.29242981019730024), ('没有', 0.34859535546933357), ('加速', 0.3497300706623795), ('引用', 0.3690503766692498), ('建议', 0.3808153052886661), ('包子', 0.6015129657022737), ('中国', 1.0)], 5), ('China_irl', 't5_x72uq', 'ComprehensiveMall713', 17903, [('需要', 0.32363925984792746), ('内容', 0.3285635839752164), ('制度', 0.35894601543133753), ('毛子', 0.3675072652665879), ('知道', 0.4164276801720833), ('应该', 0.4844780158551046), ('人民', 0.7089983971446443), ('国家', 0.716337058314072), ('没有', 0.9098957204865531), ('中国', 1.0)], 6), ('China_irl', 't5_x72uq', 'Puuuuutin', 17365, [('平台', 0.27475273363428787), ('知道', 0.2754343346308876), ('肥料', 0.27712077961287723), ('电梯', 0.28178248155422586), ('支持', 0.2919292812878016), ('还有', 0.2961883547721326), ('属实', 0.31921789338683587), ('中国', 0.4372710756311961), ('日本', 0.5239049734542429), ('坷垃', 1.0)], 7), ('China_irl', 't5_x72uq', 'taozitou', 17042, [('灵活民主', 10.0)], 8), ('China_irl', 't5_x72uq', 'lusunshine', 16491, [('受刑人', 0.5053849890357193), ('政府', 0.5350126422277788), ('对方', 0.5391673424122626), ('造成', 0.5812045586283303), ('墜落', 0.6074085201395446), ('美国', 0.6480858853040316), ('中国', 0.6721778950762466), ('香港', 0.680915420559166), ('犯人', 0.7788919527068281), ('没有', 1.0)], 9), ('China_irl', 't5_x72uq', 'ren-people', 16414, [('出来', 0.38601684373343575), ('理由', 0.40209781668654204), ('执法', 0.4065731293391592), ('问题', 0.41073099289661713), ('东西', 0.48684890125322405), ('没有', 0.5082356984933354), ('可能', 0.5760920144750736), ('美国', 0.7047860041458713), ('反倒', 0.7294572643719893), ('中国', 1.0)], 10), ('China_irl', 't5_x72uq', 'Late-Transition5132', 16323, [('方式', 0.29279865722531623), ('视频', 0.2999630699193674), ('事情', 0.32341304192527437), ('知道', 0.3267305776664182), ('基层', 0.32998745393632667), ('工人', 0.4173355693677526), ('中国', 0.43539882794831036), ('人民', 0.5355867206458137), ('警察', 0.8509634502016957), ('没有', 1.0)], 11), ('China_irl', 't5_x72uq', 'RedditUserNo345', 16018, [('蒙古', 0.4151209063491172), ('母国', 0.4421659395544943), ('看看', 0.4459626465555516), ('有用吗', 0.4625167174837344), ('亚裔', 0.4773955462217726), ('华人', 0.5683436202030541), ('俄罗斯', 0.6282193967662708), ('保护', 0.6652695563941492), ('喜欢', 0.8559783206307976), ('中国', 1.0)], 12), ('China_irl', 't5_x72uq', 'edward_wilsons', 15971, [('核实', 0.22638803102614258), ('字典', 0.23431831087620375), ('上帝', 0.24653778700299986), ('建议', 0.28421511578285164), ('需要', 0.29126686733310486), ('经济', 0.305179289671845), ('教会', 0.32410771708593433), ('视频', 0.3883305558272682), ('没有', 0.43566719279882643), ('中国', 1.0)], 13), ('China_irl', 't5_x72uq', 'clearlove_4396', 15970, [('可能', 0.3705135924709478), ('严查', 0.37510887772363777), ('人们', 0.3837080106021015), ('应该', 0.41662225715470097), ('视频', 0.4329008794014218), ('大陆', 0.5337999366343821), ('没有', 0.6086733569927907), ('台湾', 0.6646593677701385), ('中国', 0.8059463456072045), ('说明', 1.0)], 14), ('China_irl', 't5_x72uq', 'fuser_D', 15728, [('开始', 0.23502400042213437), ('俄罗斯', 0.2718783761066884), ('不能', 0.29607959030905373), ('影响', 0.2991341256997533), ('问题', 0.31729729078735314), ('经济', 0.35266105339930504), ('时候', 0.41797951424195495), ('美国', 0.4360556760979003), ('没有', 0.5801638624529857), ('中国', 1.0)], 15), ('China_irl', 't5_x72uq', 'ElectricalPeninsula', 15458, [('时候', 0.34813099728550323), ('问题', 0.3625640926927208), ('没有', 0.37648310696591997), ('觉得', 0.42099443070813003), ('发展', 0.4478311085583282), ('经济', 0.5562063853434074), ('城市', 0.568936305526965), ('国家', 0.6340568027265315), ('社会', 0.9529398572961011), ('中国', 1.0)], 16), ('China_irl', 't5_x72uq', 'ghost314159', 15294, [('结果', 0.3227117590559936), ('生活', 0.3260691477436465), ('国家', 0.3307233321726777), ('民主', 0.33943928059605255), ('头骨', 0.3488523048569606), ('遇到', 0.3575965919582942), ('大家', 0.4463768775482313), ('美国', 0.5000040825858832), ('肯定', 0.5419288031740378), ('中国', 1.0)], 17), ('China_irl', 't5_x72uq', 'Tidesoup', 15121, [('证明', 0.30460477575844624), ('问题', 0.310523462135756), ('能够', 0.3155824985557993), ('需要', 0.3247050064721486), ('特色', 0.35763454066895334), ('学生', 0.35878163315873934), ('中国', 0.39459623140009886), ('不能', 0.4553504525053506), ('没有', 0.6889037831048358), ('社会', 1.0)], 18), ('China_irl', 't5_x72uq', 'Wonderful-Event3796', 14853, [('小学', 0.705949651459987), ('轴心', 0.705949651459987), ('吃饱', 0.7097892258786144), ('历史', 0.7317888445573537), ('俄罗斯', 0.7361611987003375), ('美国', 0.8158262778453811), ('上海', 0.8199656492385082), ('输出', 0.8233025211820294), ('连任', 0.9962284534337994), ('中国', 1.0)], 19), ('China_irl', 't5_x72uq', 'Xeausescu', 14757, [('美国屠别国，俄国屠邻国，中国屠本国。', 10.0)], 20)]\n"
      ]
     },
     "metadata": {
      "application/vnd.databricks.v1+output": {
       "addedWidgets": {},
       "arguments": {},
       "data": "[('China_irl', 't5_x72uq', 'ErwinRRR', 21265, [('共匪', 0.2919269235279303), ('问题', 0.30085721651710706), ('觉得', 0.3348083232951814), ('东西', 0.33883345897310707), ('结果', 0.34826630776203793), ('时候', 0.38251735338798337), ('可能', 0.39758783402955705), ('国家', 0.4132706429507359), ('没有', 0.5096784844022569), ('中国', 1.0)], 1), ('China_irl', 't5_x72uq', 'Adventure_Alone', 21034, [('轰炸', 0.3297834212538825), ('文革', 0.35097347055301276), ('政治', 0.36308266858879634), ('中國', 0.37479726316605194), ('政策', 0.4239069780908441), ('没有', 0.4731043541154743), ('时候', 0.5342771533699927), ('知道', 0.5444098056480373), ('民主', 0.5775653690618686), ('中国', 1.0)], 2), ('China_irl', 't5_x72uq', 'KailBroflovsky', 20772, [('思想', 0.553656316856696), ('还有', 0.5562829093682939), ('知道', 0.5569364348172173), ('觉得', 0.559430321379635), ('舆论', 0.5926594429397128), ('文革', 0.635289093164218), ('中国', 0.7655327314333069), ('平子', 0.7948924472567184), ('资本家', 0.8198218706030398), ('没有', 1.0)], 3), ('China_irl', 't5_x72uq', 'FormulaChinese', 19212, [('问题', 0.162073428731364), ('普京', 0.16503904387895418), ('记者', 0.16557972754595077), ('看看', 0.17792712458913224), ('美国', 0.285671868372138), ('民主', 0.288458716748338), ('国家', 0.2935395439893917), ('支持', 0.3562260557013981), ('俄罗斯', 0.36645989465511825), ('中国', 1.0)], 4), ('China_irl', 't5_x72uq', 'MundaneAssociation71', 18788, [('进到', 0.2839373380478285), ('巡游', 0.28397143510287043), ('遇到', 0.2878383505084197), ('世袭制', 0.29242981019730024), ('没有', 0.34859535546933357), ('加速', 0.3497300706623795), ('引用', 0.3690503766692498), ('建议', 0.3808153052886661), ('包子', 0.6015129657022737), ('中国', 1.0)], 5), ('China_irl', 't5_x72uq', 'ComprehensiveMall713', 17903, [('需要', 0.32363925984792746), ('内容', 0.3285635839752164), ('制度', 0.35894601543133753), ('毛子', 0.3675072652665879), ('知道', 0.4164276801720833), ('应该', 0.4844780158551046), ('人民', 0.7089983971446443), ('国家', 0.716337058314072), ('没有', 0.9098957204865531), ('中国', 1.0)], 6), ('China_irl', 't5_x72uq', 'Puuuuutin', 17365, [('平台', 0.27475273363428787), ('知道', 0.2754343346308876), ('肥料', 0.27712077961287723), ('电梯', 0.28178248155422586), ('支持', 0.2919292812878016), ('还有', 0.2961883547721326), ('属实', 0.31921789338683587), ('中国', 0.4372710756311961), ('日本', 0.5239049734542429), ('坷垃', 1.0)], 7), ('China_irl', 't5_x72uq', 'taozitou', 17042, [('灵活民主', 10.0)], 8), ('China_irl', 't5_x72uq', 'lusunshine', 16491, [('受刑人', 0.5053849890357193), ('政府', 0.5350126422277788), ('对方', 0.5391673424122626), ('造成', 0.5812045586283303), ('墜落', 0.6074085201395446), ('美国', 0.6480858853040316), ('中国', 0.6721778950762466), ('香港', 0.680915420559166), ('犯人', 0.7788919527068281), ('没有', 1.0)], 9), ('China_irl', 't5_x72uq', 'ren-people', 16414, [('出来', 0.38601684373343575), ('理由', 0.40209781668654204), ('执法', 0.4065731293391592), ('问题', 0.41073099289661713), ('东西', 0.48684890125322405), ('没有', 0.5082356984933354), ('可能', 0.5760920144750736), ('美国', 0.7047860041458713), ('反倒', 0.7294572643719893), ('中国', 1.0)], 10), ('China_irl', 't5_x72uq', 'Late-Transition5132', 16323, [('方式', 0.29279865722531623), ('视频', 0.2999630699193674), ('事情', 0.32341304192527437), ('知道', 0.3267305776664182), ('基层', 0.32998745393632667), ('工人', 0.4173355693677526), ('中国', 0.43539882794831036), ('人民', 0.5355867206458137), ('警察', 0.8509634502016957), ('没有', 1.0)], 11), ('China_irl', 't5_x72uq', 'RedditUserNo345', 16018, [('蒙古', 0.4151209063491172), ('母国', 0.4421659395544943), ('看看', 0.4459626465555516), ('有用吗', 0.4625167174837344), ('亚裔', 0.4773955462217726), ('华人', 0.5683436202030541), ('俄罗斯', 0.6282193967662708), ('保护', 0.6652695563941492), ('喜欢', 0.8559783206307976), ('中国', 1.0)], 12), ('China_irl', 't5_x72uq', 'edward_wilsons', 15971, [('核实', 0.22638803102614258), ('字典', 0.23431831087620375), ('上帝', 0.24653778700299986), ('建议', 0.28421511578285164), ('需要', 0.29126686733310486), ('经济', 0.305179289671845), ('教会', 0.32410771708593433), ('视频', 0.3883305558272682), ('没有', 0.43566719279882643), ('中国', 1.0)], 13), ('China_irl', 't5_x72uq', 'clearlove_4396', 15970, [('可能', 0.3705135924709478), ('严查', 0.37510887772363777), ('人们', 0.3837080106021015), ('应该', 0.41662225715470097), ('视频', 0.4329008794014218), ('大陆', 0.5337999366343821), ('没有', 0.6086733569927907), ('台湾', 0.6646593677701385), ('中国', 0.8059463456072045), ('说明', 1.0)], 14), ('China_irl', 't5_x72uq', 'fuser_D', 15728, [('开始', 0.23502400042213437), ('俄罗斯', 0.2718783761066884), ('不能', 0.29607959030905373), ('影响', 0.2991341256997533), ('问题', 0.31729729078735314), ('经济', 0.35266105339930504), ('时候', 0.41797951424195495), ('美国', 0.4360556760979003), ('没有', 0.5801638624529857), ('中国', 1.0)], 15), ('China_irl', 't5_x72uq', 'ElectricalPeninsula', 15458, [('时候', 0.34813099728550323), ('问题', 0.3625640926927208), ('没有', 0.37648310696591997), ('觉得', 0.42099443070813003), ('发展', 0.4478311085583282), ('经济', 0.5562063853434074), ('城市', 0.568936305526965), ('国家', 0.6340568027265315), ('社会', 0.9529398572961011), ('中国', 1.0)], 16), ('China_irl', 't5_x72uq', 'ghost314159', 15294, [('结果', 0.3227117590559936), ('生活', 0.3260691477436465), ('国家', 0.3307233321726777), ('民主', 0.33943928059605255), ('头骨', 0.3488523048569606), ('遇到', 0.3575965919582942), ('大家', 0.4463768775482313), ('美国', 0.5000040825858832), ('肯定', 0.5419288031740378), ('中国', 1.0)], 17), ('China_irl', 't5_x72uq', 'Tidesoup', 15121, [('证明', 0.30460477575844624), ('问题', 0.310523462135756), ('能够', 0.3155824985557993), ('需要', 0.3247050064721486), ('特色', 0.35763454066895334), ('学生', 0.35878163315873934), ('中国', 0.39459623140009886), ('不能', 0.4553504525053506), ('没有', 0.6889037831048358), ('社会', 1.0)], 18), ('China_irl', 't5_x72uq', 'Wonderful-Event3796', 14853, [('小学', 0.705949651459987), ('轴心', 0.705949651459987), ('吃饱', 0.7097892258786144), ('历史', 0.7317888445573537), ('俄罗斯', 0.7361611987003375), ('美国', 0.8158262778453811), ('上海', 0.8199656492385082), ('输出', 0.8233025211820294), ('连任', 0.9962284534337994), ('中国', 1.0)], 19), ('China_irl', 't5_x72uq', 'Xeausescu', 14757, [('美国屠别国，俄国屠邻国，中国屠本国。', 10.0)], 20)]\n",
       "datasetInfos": [],
       "metadata": {},
       "removedWidgets": [],
       "type": "ansi"
      }
     },
     "output_type": "display_data"
    }
   ],
   "source": [
    "def extract_expertise(expert):\n",
    "    #chinese deal with specially\n",
    "    if expert[1] == 't5_x72uq':\n",
    "        expertise = get_expertise_cn(expert[4])\n",
    "    else:\n",
    "        expertise = get_expertise(expert[4])\n",
    "    tup = (expert[0], expert[1], expert[2], expert[3], expertise, expert[5])\n",
    "    return tup\n",
    "\n",
    "start = 0\n",
    "#end = 20000\n",
    "part_experts_list = top_experts_list[start:]\n",
    "expertises_list = []\n",
    "# print(top_experts_list[:10])\n",
    "\n",
    "rdd_experts = sc.parallelize(part_experts_list)\n",
    "expertises_list = rdd_experts.map(extract_expertise).collect()\n",
    "print(expertises_list)\n",
    "# display(df)\n",
    "#def extract_expertise():\n",
    "#    for expert in part_experts_list:\n",
    "#            expertise = get_expertise(expert[4])\n",
    "#            tup = (expert[0], expert[1], expert[2], expert[3], expertise, expert[5])\n",
    "#            expertises_list.append(tup)\n",
    "#            print(expert[0] + ' finished') \n",
    "#extract_expertise()"
   ]
  },
  {
   "cell_type": "code",
   "execution_count": 0,
   "metadata": {
    "application/vnd.databricks.v1+cell": {
     "inputWidgets": {},
     "nuid": "97b41560-648a-406c-8650-f46bef49c2a8",
     "showTitle": false,
     "title": ""
    }
   },
   "outputs": [
    {
     "data": {
      "text/plain": [
       "20\n"
      ]
     },
     "metadata": {
      "application/vnd.databricks.v1+output": {
       "addedWidgets": {},
       "arguments": {},
       "data": "20\n",
       "datasetInfos": [],
       "metadata": {},
       "removedWidgets": [],
       "type": "ansi"
      }
     },
     "output_type": "display_data"
    }
   ],
   "source": [
    "print(len(expertises_list))"
   ]
  },
  {
   "cell_type": "code",
   "execution_count": 0,
   "metadata": {
    "application/vnd.databricks.v1+cell": {
     "inputWidgets": {},
     "nuid": "7da6143a-68cb-49e1-8ede-03d4bafcc612",
     "showTitle": false,
     "title": ""
    }
   },
   "outputs": [],
   "source": [
    "#expertises_list = expertises_list[0:300]\n",
    "sc = SparkContext.getOrCreate()\n",
    "expertises_df = sc.parallelize(expertises_list).toDF()"
   ]
  },
  {
   "cell_type": "code",
   "execution_count": 0,
   "metadata": {
    "application/vnd.databricks.v1+cell": {
     "inputWidgets": {},
     "nuid": "e426325d-fdf3-4786-b981-b0eced55a598",
     "showTitle": false,
     "title": ""
    }
   },
   "outputs": [],
   "source": [
    "expertises_df = expertises_df.select(col('_6').alias('rank'),col('_1').alias('subreddit')\n",
    "                                    , col('_2').alias('subreddit_id'), col('_3').alias('author')\n",
    "                                    , col('_4').alias('expert_score'), col('_5').alias('expertise'))"
   ]
  },
  {
   "cell_type": "code",
   "execution_count": 0,
   "metadata": {
    "application/vnd.databricks.v1+cell": {
     "inputWidgets": {},
     "nuid": "a455cf06-e429-4be2-aba9-33bb71a6d2bf",
     "showTitle": false,
     "title": ""
    }
   },
   "outputs": [],
   "source": [
    "expertises_df.coalesce(1).write.partitionBy('subreddit') \\\n",
    "                .mode('append') \\\n",
    "                .option(\"mapreduce.fileoutputcommitter.marksuccessfuljobs\",\"false\") \\\n",
    "                .json('dbfs:/FileStore/Group24/expertise_json')"
   ]
  },
  {
   "cell_type": "code",
   "execution_count": 0,
   "metadata": {
    "application/vnd.databricks.v1+cell": {
     "inputWidgets": {},
     "nuid": "4e91d176-3ee1-49c3-8777-da323904a62d",
     "showTitle": false,
     "title": ""
    }
   },
   "outputs": [
    {
     "data": {
      "text/plain": [
       "1001\n"
      ]
     },
     "metadata": {
      "application/vnd.databricks.v1+output": {
       "addedWidgets": {},
       "arguments": {},
       "data": "1001\n",
       "datasetInfos": [],
       "metadata": {},
       "removedWidgets": [],
       "type": "ansi"
      }
     },
     "output_type": "display_data"
    }
   ],
   "source": [
    "json_file_list = os.listdir('/dbfs/FileStore/Group24/expertise_json')\n",
    "print(len(json_file_list))"
   ]
  }
 ],
 "metadata": {
  "application/vnd.databricks.v1+notebook": {
   "dashboards": [],
   "language": "python",
   "notebookMetadata": {
    "pythonIndentUnit": 4
   },
   "notebookName": "extract_expertise",
   "notebookOrigID": 3918888859997459,
   "widgets": {}
  },
  "kernelspec": {
   "display_name": "Python 3 (ipykernel)",
   "language": "python",
   "name": "python3"
  },
  "language_info": {
   "codemirror_mode": {
    "name": "ipython",
    "version": 3
   },
   "file_extension": ".py",
   "mimetype": "text/x-python",
   "name": "python",
   "nbconvert_exporter": "python",
   "pygments_lexer": "ipython3",
   "version": "3.9.7"
  }
 },
 "nbformat": 4,
 "nbformat_minor": 1
}
